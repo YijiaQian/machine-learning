{
 "cells": [
  {
   "cell_type": "markdown",
   "metadata": {},
   "source": [
    "# Programming task 10: Dimensionality Reduction"
   ]
  },
  {
   "cell_type": "code",
   "execution_count": 2,
   "metadata": {
    "collapsed": true
   },
   "outputs": [],
   "source": [
    "import numpy as np\n",
    "import matplotlib.pyplot as plt\n",
    "\n",
    "%matplotlib inline"
   ]
  },
  {
   "cell_type": "markdown",
   "metadata": {},
   "source": [
    "## Exporting the results to PDF\n",
    "Once you complete the assignments, export the entire notebook as PDF and attach it to your homework solutions. \n",
    "The best way of doing that is\n",
    "1. Run all the cells of the notebook.\n",
    "2. Export/download the notebook as PDF (File -> Download as -> PDF via LaTeX (.pdf)).\n",
    "3. Concatenate your solutions for other tasks with the output of Step 2. On a Linux machine you can simply use `pdfunite`, there are similar tools for other platforms too. You can only upload a single PDF file to Moodle.\n",
    "\n",
    "Make sure you are using `nbconvert` Version 5.5 or later by running `jupyter nbconvert --version`. Older versions clip lines that exceed page width, which makes your code harder to grade."
   ]
  },
  {
   "cell_type": "markdown",
   "metadata": {},
   "source": [
    "##  PCA"
   ]
  },
  {
   "cell_type": "markdown",
   "metadata": {},
   "source": [
    "Given the data in the matrix X your tasks is to:\n",
    "* Calculate the covariance matrix $\\Sigma$.\n",
    "* Calculate eigenvalues and eigenvectors of $\\Sigma$.\n",
    "* Plot the original data $X$ and the eigenvectors to a single diagram. What do you observe? Which eigenvector corresponds to the smallest eigenvalue?\n",
    "* Determine the smallest eigenvalue and remove its corresponding eigenvector. The remaining eigenvector is the basis of a new subspace.\n",
    "* Transform all vectors in X in this new subspace by expressing all vectors in X in this new basis.\t"
   ]
  },
  {
   "cell_type": "markdown",
   "metadata": {},
   "source": [
    "### The given data X"
   ]
  },
  {
   "cell_type": "code",
   "execution_count": 3,
   "metadata": {
    "collapsed": false
   },
   "outputs": [],
   "source": [
    "X = np.array([(-3,-2),(-2,-1),(-1,0),(0,1),\n",
    "              (1,2),(2,3),(-2,-2),(-1,-1),\n",
    "              (0,0),(1,1),(2,2), (-2,-3),\n",
    "              (-1,-2),(0,-1),(1,0), (2,1),(3,2)])"
   ]
  },
  {
   "cell_type": "markdown",
   "metadata": {},
   "source": [
    "### Task 1: Calculate the covariance matrix $\\Sigma$"
   ]
  },
  {
   "cell_type": "code",
   "execution_count": 6,
   "metadata": {
    "collapsed": true
   },
   "outputs": [],
   "source": [
    "def get_covariance(X):\n",
    "    \"\"\"Calculates the covariance matrix of the input data.\n",
    "    \n",
    "    Parameters\n",
    "    ----------\n",
    "    X : array, shape [N, D]\n",
    "        Data matrix.\n",
    "        \n",
    "    Returns\n",
    "    -------\n",
    "    Sigma : array, shape [D, D]\n",
    "        Covariance matrix\n",
    "        \n",
    "    \"\"\"\n",
    "    # TODO\n",
    "    mean = np.mean(X, axis=0)\n",
    "    X_centered = X - mean\n",
    "    N = X.shape[0]\n",
    "    Sigma = (X_centered.T @ X_centered) / N\n",
    "    return Sigma"
   ]
  },
  {
   "cell_type": "markdown",
   "metadata": {},
   "source": [
    "### Task 2: Calculate eigenvalues and eigenvectors of  $\\Sigma$."
   ]
  },
  {
   "cell_type": "code",
   "execution_count": 7,
   "metadata": {
    "collapsed": true
   },
   "outputs": [],
   "source": [
    "def get_eigen(S):\n",
    "    \"\"\"Calculates the eigenvalues and eigenvectors of the input matrix.\n",
    "    \n",
    "    Parameters\n",
    "    ----------\n",
    "    S : array, shape [D, D]\n",
    "        Square symmetric positive definite matrix.\n",
    "        \n",
    "    Returns\n",
    "    -------\n",
    "    L : array, shape [D]\n",
    "        Eigenvalues of S\n",
    "    U : array, shape [D, D]\n",
    "        Eigenvectors of S\n",
    "    \n",
    "    \"\"\"\n",
    "    L, U = np.linalg.eigh(S)\n",
    "    \n",
    "    idx = L.argsort()[::-1]\n",
    "    L = L[idx]\n",
    "    U = U[:, idx]\n",
    "    \n",
    "    return L, U"
   ]
  },
  {
   "cell_type": "markdown",
   "metadata": {},
   "source": [
    "### Task 3: Plot the original data X and the eigenvectors to a single diagram."
   ]
  },
  {
   "cell_type": "code",
   "execution_count": 8,
   "metadata": {
    "collapsed": false
   },
   "outputs": [
    {
     "data": {
      "image/png": "[encoded data removed]",
      "text/plain": [
       "<Figure size 640x480 with 1 Axes>"
      ]
     },
     "metadata": {},
     "output_type": "display_data"
    }
   ],
   "source": [
    "# plot the original data\n",
    "plt.scatter(X[:, 0], X[:, 1])\n",
    "plt.axis('equal')\n",
    "\n",
    "# plot the mean of the data\n",
    "mean_d1, mean_d2 = X.mean(0)\n",
    "plt.plot(mean_d1, mean_d2, 'o', markersize=10, color='red', alpha=0.5)\n",
    "\n",
    "# calculate the covariance matrix\n",
    "Sigma = get_covariance(X)\n",
    "# calculate the eigenvector and eigenvalues of Sigma\n",
    "L, U = get_eigen(Sigma)\n",
    "\n",
    "plt.arrow(mean_d1, mean_d2, U[0, 0], U[1, 0], width=0.05, color='red', alpha=0.5)\n",
    "plt.arrow(mean_d1, mean_d2, U[0, 1], U[1, 1], width=0.05, color='red', alpha=0.5);"
   ]
  },
  {
   "cell_type": "markdown",
   "metadata": {},
   "source": [
    "What do you observe in the above plot? Which eigenvector corresponds to the smallest eigenvalue?\n",
    "\n",
    "Write your answer here:\n",
    "\n",
    "\n",
    "```\n",
    "we can see the data can be represented in 2 directions(axis).\n",
    "The smallest eigenvalue coresponds to the smallest variance in the dataset, its direction is towards upper left, we need to reduce this dimension if we want to do PCA.\n",
    "```"
   ]
  },
  {
   "cell_type": "markdown",
   "metadata": {},
   "source": [
    "### Task 4: Transform the data"
   ]
  },
  {
   "cell_type": "markdown",
   "metadata": {},
   "source": [
    "Determine the smallest eigenvalue and remove its corresponding eigenvector. The remaining eigenvector is the basis of a new subspace. Transform all vectors in X in this new subspace by expressing all vectors in X in this new basis."
   ]
  },
  {
   "cell_type": "code",
   "execution_count": 11,
   "metadata": {
    "collapsed": true
   },
   "outputs": [],
   "source": [
    "def transform(X, U, L):\n",
    "    \"\"\"Transforms the data in the new subspace spanned by the eigenvector corresponding to the largest eigenvalue.\n",
    "    \n",
    "    Parameters\n",
    "    ----------\n",
    "    X : array, shape [N, D]\n",
    "        Data matrix.\n",
    "    L : array, shape [D]\n",
    "        Eigenvalues of Sigma_X\n",
    "    U : array, shape [D, D]\n",
    "        Eigenvectors of Sigma_X\n",
    "        \n",
    "    Returns\n",
    "    -------\n",
    "    X_t : array, shape [N, 1]\n",
    "        Transformed data\n",
    "        \n",
    "    \"\"\"\n",
    "    mean = np.mean(X, axis=0)\n",
    "    X_centered = X - mean\n",
    "    U_reduced = U[:, 0:1] \n",
    "    X_t = X_centered @ U_reduced\n",
    "    return X_t"
   ]
  },
  {
   "cell_type": "code",
   "execution_count": 12,
   "metadata": {
    "collapsed": false
   },
   "outputs": [],
   "source": [
    "X_t = transform(X, U, L)"
   ]
  },
  {
   "cell_type": "markdown",
   "metadata": {},
   "source": [
    "##  SVD"
   ]
  },
  {
   "cell_type": "markdown",
   "metadata": {},
   "source": [
    "### Task 5: Given the matrix $M$ find its SVD decomposition $M= U \\cdot \\Sigma \\cdot V$ and reduce it to one dimension using the approach described in the lecture."
   ]
  },
  {
   "cell_type": "code",
   "execution_count": 13,
   "metadata": {
    "collapsed": true
   },
   "outputs": [],
   "source": [
    "M = np.array([[1, 2], [6, 3],[0, 2]])"
   ]
  },
  {
   "cell_type": "code",
   "execution_count": 14,
   "metadata": {
    "collapsed": true
   },
   "outputs": [],
   "source": [
    "def reduce_to_one_dimension(M):\n",
    "    \"\"\"Reduces the input matrix to one dimension using its SVD decomposition.\n",
    "    \n",
    "    Parameters\n",
    "    ----------\n",
    "    M : array, shape [N, D]\n",
    "        Input matrix.\n",
    "        \n",
    "    Returns\n",
    "    -------\n",
    "    M_t: array, shape [N, 1]\n",
    "        Reduce matrix.\n",
    "    \n",
    "    \"\"\"\n",
    "    U, S, Vt = np.linalg.svd(M, full_matrices=False)\n",
    "    \n",
    "    U_reduced = U[:, 0:1]   #[N,1]\n",
    "    s_reduced = S[0]    #scalar\n",
    "    \n",
    "    # 计算降维后的矩阵\n",
    "    M_t = U_reduced * s_reduced\n",
    "    \n",
    "    return M_t"
   ]
  },
  {
   "cell_type": "code",
   "execution_count": 10,
   "metadata": {
    "collapsed": false
   },
   "outputs": [],
   "source": [
    "M_t = reduce_to_one_dimension(M)"
   ]
  }
 ],
 "metadata": {
  "anaconda-cloud": {},
  "interpreter": {
   "hash": "9258b74df4fede1c869bcbc4e0335d565b0fca2c24c4c3e79d6cd4dcf626c4ec"
  },
  "kernelspec": {
   "display_name": "Python [conda env:root]",
   "language": "python",
   "name": "python3"
  },
  "language_info": {
   "codemirror_mode": {
    "name": "ipython",
    "version": 3
   },
   "file_extension": ".py",
   "mimetype": "text/x-python",
   "name": "python",
   "nbconvert_exporter": "python",
   "pygments_lexer": "ipython3",
   "version": "3.8.20"
  },
  "toc": {
   "colors": {
    "hover_highlight": "#DAA520",
    "navigate_num": "#000000",
    "navigate_text": "#333333",
    "running_highlight": "#FF0000",
    "selected_highlight": "#FFD700",
    "sidebar_border": "#EEEEEE",
    "wrapper_background": "#FFFFFF"
   },
   "moveMenuLeft": true,
   "nav_menu": {
    "height": "48px",
    "width": "252px"
   },
   "navigate_menu": true,
   "number_sections": true,
   "sideBar": true,
   "threshold": 4,
   "toc_cell": false,
   "toc_section_display": "block",
   "toc_window_display": false,
   "widenNotebook": false
  }
 },
 "nbformat": 4,
 "nbformat_minor": 2
}
