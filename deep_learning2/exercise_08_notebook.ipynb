{
 "cells": [
  {
   "cell_type": "code",
   "execution_count": 2,
   "metadata": {},
   "outputs": [],
   "source": [
    "import copy\n",
    "import numpy as np\n",
    "import torch\n",
    "import torch.nn as nn\n",
    "import torch.nn.functional as F\n",
    "import torchvision\n",
    "import torchvision.transforms as transforms"
   ]
  },
  {
   "cell_type": "markdown",
   "metadata": {},
   "source": [
    "# PyTorch\n",
    "In this notebook you will gain some hands-on experience with [PyTorch](https://pytorch.org/), one of the major frameworks for deep learning. To install PyTorch. follow [the official installation instructions](https://pytorch.org/get-started/locally/). Make sure that you select the correct OS & select the version with CUDA if your computer supports it.\n",
    "If you do not have an Nvidia GPU, you can install the CPU version by setting `CUDA` to `None`.\n",
    "However, in this case we recommend using [Google Colab](https://colab.research.google.com/).\n",
    "Make sure that you enable GPU acceleration in `Runtime > Change runtime type`.\n",
    "\n",
    "You will start by re-implementing some common features of deep neural networks (dropout and batch normalization) and then implement a very popular modern architecture for image classification (ResNet) and improve its training loop."
   ]
  },
  {
   "cell_type": "markdown",
   "metadata": {},
   "source": [
    "# 1. Dropout\n",
    "Dropout is a form of regularization for neural networks. It works by randomly setting activations (values) to 0, each one with equal probability `p`. The values are then scaled by a factor $\\frac{1}{1-p}$ to conserve their mean.\n",
    "\n",
    "Dropout effectively trains a pseudo-ensemble of models with stochastic gradient descent. During evaluation we want to use the full ensemble and therefore have to turn off dropout. Use `self.training` to check if the model is in training or evaluation mode.\n",
    "\n",
    "Do not use any dropout implementation from PyTorch for this!"
   ]
  },
  {
   "cell_type": "code",
   "execution_count": 3,
   "metadata": {},
   "outputs": [],
   "source": [
    "class Dropout(nn.Module):\n",
    "    \"\"\"\n",
    "    Dropout, as discussed in the lecture and described here:\n",
    "    https://pytorch.org/docs/stable/nn.html#torch.nn.Dropout\n",
    "    \n",
    "    Args:\n",
    "        p: float, dropout probability\n",
    "    \"\"\"\n",
    "    def __init__(self, p):\n",
    "        super().__init__()\n",
    "        self.p = p\n",
    "        \n",
    "    def forward(self, input):\n",
    "        \"\"\"\n",
    "        The module's forward pass.\n",
    "        This has to be implemented for every PyTorch module.\n",
    "        PyTorch then automatically generates the backward pass\n",
    "        by dynamically generating the computational graph during\n",
    "        execution.\n",
    "        \n",
    "        Args:\n",
    "            input: PyTorch tensor, arbitrary shape\n",
    "\n",
    "        Returns:\n",
    "            PyTorch tensor, same shape as input\n",
    "        \"\"\"\n",
    "        \n",
    "        # TODO: Set values randomly to 0.\n",
    "        if self.training:\n",
    "            mask = input.new_empty(input.size()).bernoulli_(1-self.p)\n",
    "            scale = 1/(1-self.p)\n",
    "            return input * mask * scale\n",
    "        else:\n",
    "            return input"
   ]
  },
  {
   "cell_type": "code",
   "execution_count": 4,
   "metadata": {},
   "outputs": [],
   "source": [
    "# Test dropout\n",
    "test = torch.rand(10_000)\n",
    "dropout = Dropout(0.2)\n",
    "test_dropped = dropout(test)\n",
    "\n",
    "# These assertions can in principle fail due to bad luck, but\n",
    "# if implemented correctly they should almost always succeed.\n",
    "assert np.isclose(test_dropped.mean().item(), test.mean().item(), atol=1e-2)\n",
    "assert np.isclose((test_dropped > 0).float().mean().item(), 0.8, atol=1e-2)"
   ]
  },
  {
   "cell_type": "markdown",
   "metadata": {},
   "source": [
    "# 2. Batch normalization\n",
    "Batch normalization is a trick use to smoothen the loss landscape and improve training. It is defined as the function\n",
    "$$y = \\frac{x - \\mu_x}{\\sigma_x + \\epsilon} \\cdot \\gamma + \\beta$$,\n",
    "where $\\gamma$ and $\\beta$ and learnable parameters and $\\epsilon$ is a some small number to avoid dividing by zero. The Statistics $\\mu_x$ and $\\sigma_x$ are taken separately for each feature. In a CNN this means averaging over the batch and all pixels.\n",
    "\n",
    "Do not use any batch normalization implementation from PyTorch for this!"
   ]
  },
  {
   "cell_type": "code",
   "execution_count": 5,
   "metadata": {},
   "outputs": [],
   "source": [
    "class BatchNorm(nn.Module):\n",
    "    \"\"\"\n",
    "    Batch normalization, as discussed in the lecture and similar to\n",
    "    https://pytorch.org/docs/stable/nn.html#torch.nn.BatchNorm1d\n",
    "    \n",
    "    Only uses batch statistics (no running mean for evaluation).\n",
    "    Batch statistics are calculated for a single dimension.\n",
    "    Gamma is initialized as 1, beta as 0.\n",
    "    \n",
    "    Args:\n",
    "        num_features: Number of features to calculate batch statistics for.\n",
    "    \"\"\"\n",
    "    def __init__(self, num_features):\n",
    "        super().__init__()\n",
    "        \n",
    "        # TODO: Initialize the required parameters\n",
    "        self.gamma = nn.Parameter(torch.ones(num_features))\n",
    "        self.beta = nn.Parameter(torch.zeros(num_features))\n",
    "        \n",
    "    def forward(self, input):\n",
    "        \"\"\"\n",
    "        Batch normalization over the dimension C of (N, C, L).\n",
    "        \n",
    "        Args:\n",
    "            input: PyTorch tensor, shape [N, C, L]\n",
    "            \n",
    "        Return:\n",
    "            PyTorch tensor, same shape as input\n",
    "        \"\"\"\n",
    "        eps = 1e-5\n",
    "        \n",
    "        # TODO: Implement the required transformation\n",
    "        N, C, H = input.size()\n",
    "        mean = input.mean(dim=[0,2], keepdim=True)\n",
    "        var = input.var(dim=[0,2], keepdim=True)\n",
    "        x_hat = (input - mean) / torch.sqrt(var + eps)\n",
    "        return self.gamma.view(1, C, 1) * x_hat + self.beta.view(1, C, 1)"
   ]
  },
  {
   "cell_type": "code",
   "execution_count": 6,
   "metadata": {},
   "outputs": [],
   "source": [
    "# Tests the batch normalization implementation\n",
    "torch.random.manual_seed(42)\n",
    "test = torch.randn(8, 2, 4)\n",
    "\n",
    "b1 = BatchNorm(2)\n",
    "test_b1 = b1(test)\n",
    "\n",
    "b2 = nn.BatchNorm1d(2, affine=False, track_running_stats=False)\n",
    "test_b2 = b2(test)\n",
    "\n",
    "assert torch.allclose(test_b1, test_b2, rtol=0.02)"
   ]
  },
  {
   "cell_type": "markdown",
   "metadata": {},
   "source": [
    "# 3. ResNet\n",
    "ResNet is the models that first introduced residual connections (a form of skip connections). It is a rather simple, but successful and very popular architecture. In this part of the exercise we will re-implement it step by step.\n",
    "\n",
    "Note that there is also an [improved version of ResNet](https://arxiv.org/abs/1603.05027) with optimized residual blocks. Here we will implement the [original version](https://arxiv.org/abs/1512.03385) for CIFAR-10. Your dropout and batchnorm implementations won't help you here. Just use PyTorch's own layers."
   ]
  },
  {
   "cell_type": "markdown",
   "metadata": {},
   "source": [
    "This is just a convenience function to make e.g. `nn.Sequential` more flexible. It is e.g. useful in combination with `x.squeeze()`."
   ]
  },
  {
   "cell_type": "code",
   "execution_count": 7,
   "metadata": {},
   "outputs": [],
   "source": [
    "class Lambda(nn.Module):\n",
    "    def __init__(self, func):\n",
    "        super().__init__()\n",
    "        self.func = func\n",
    "\n",
    "    def forward(self, x):\n",
    "        return self.func(x)"
   ]
  },
  {
   "cell_type": "markdown",
   "metadata": {},
   "source": [
    "We begin by implementing the residual blocks. The block is illustrated by this sketch:\n",
    "\n",
    "![Residual connection](img/residual_connection.png)\n",
    "\n",
    "Note that we use 'SAME' padding, no bias, and batch normalization after each convolution. You do not need `nn.Sequential` here. The skip connection is already implemented as `self.skip`. It can handle different strides and increases in the number of channels."
   ]
  },
  {
   "cell_type": "code",
   "execution_count": 8,
   "metadata": {},
   "outputs": [],
   "source": [
    "class ResidualBlock(nn.Module):\n",
    "    \"\"\"\n",
    "    The residual block used by ResNet.\n",
    "    \n",
    "    Args:\n",
    "        in_channels: The number of channels (feature maps) of the incoming embedding\n",
    "        out_channels: The number of channels after the first convolution\n",
    "        stride: Stride size of the first convolution, used for downsampling\n",
    "    \"\"\"\n",
    "    \n",
    "    def __init__(self, in_channels, out_channels, stride=1):\n",
    "        super().__init__()        \n",
    "        if stride > 1 or in_channels != out_channels:\n",
    "            # Add strides in the skip connection and zeros for the new channels.\n",
    "            self.skip = Lambda(lambda x: F.pad(x[:, :, ::stride, ::stride],\n",
    "                                               (0, 0, 0, 0, 0, out_channels - in_channels),\n",
    "                                               mode=\"constant\", value=0))\n",
    "        else:\n",
    "            self.skip = nn.Sequential()\n",
    "            \n",
    "        # TODO: Initialize the required layers\n",
    "        self.conv1 = nn.Conv2d(in_channels, out_channels, 3, stride=stride, padding=1, bias=False)\n",
    "        self.bn1 = nn.BatchNorm2d(out_channels)\n",
    "        self.relu = nn.ReLU()\n",
    "        self.conv2 = nn.Conv2d(out_channels, out_channels, 3, padding=1, bias=False)\n",
    "        self.bn2 = nn.BatchNorm2d(out_channels)\n",
    "\n",
    "        \n",
    "    def forward(self, input):\n",
    "        # TODO: Execute the required layers and functions\n",
    "        x = self.conv1(input)\n",
    "        x = self.bn1(x)\n",
    "        x = self.relu(x)\n",
    "        x = self.conv2(x)\n",
    "        x = self.bn2(x)\n",
    "        x += self.skip(input)\n",
    "        x = self.relu(x)\n",
    "        return x"
   ]
  },
  {
   "cell_type": "markdown",
   "metadata": {},
   "source": [
    "Next we implement a stack of residual blocks for convenience. The first layer in the block is the one changing the number of channels and downsampling. You can use `nn.ModuleList` to use a list of child modules."
   ]
  },
  {
   "cell_type": "code",
   "execution_count": 9,
   "metadata": {},
   "outputs": [],
   "source": [
    "class ResidualStack(nn.Module):\n",
    "    \"\"\"\n",
    "    A stack of residual blocks.\n",
    "    \n",
    "    Args:\n",
    "        in_channels: The number of channels (feature maps) of the incoming embedding\n",
    "        out_channels: The number of channels after the first layer\n",
    "        stride: Stride size of the first layer, used for downsampling\n",
    "        num_blocks: Number of residual blocks\n",
    "    \"\"\"\n",
    "    \n",
    "    def __init__(self, in_channels, out_channels, stride, num_blocks):\n",
    "        super().__init__()\n",
    "        \n",
    "        # TODO: Initialize the required layers (blocks)\n",
    "        self.blocks = nn.ModuleList([ResidualBlock(in_channels, out_channels, stride)])\n",
    "        self.blocks.extend([ResidualBlock(out_channels, out_channels) for _ in range(1, num_blocks)])\n",
    "\n",
    "        \n",
    "    def forward(self, input):\n",
    "        # TODO: Execute the layers (blocks)\n",
    "        x = input\n",
    "        for block in self.blocks:\n",
    "            x = block(x)\n",
    "        return x\n",
    "    "
   ]
  },
  {
   "cell_type": "markdown",
   "metadata": {},
   "source": [
    "Now we are finally ready to implement the full model! To do this, use the `nn.Sequential` API and carefully read the following paragraph from the paper (Fig. 3 is not important):\n",
    "\n",
    "![ResNet CIFAR10 description](img/resnet_cifar10_description.png)\n",
    "\n",
    "Note that a convolution layer is always convolution + batch norm + activation (ReLU), that each ResidualBlock contains 2 layers, and that you might have to `squeeze` the embedding before the dense (fully-connected) layer."
   ]
  },
  {
   "cell_type": "code",
   "execution_count": 10,
   "metadata": {},
   "outputs": [],
   "source": [
    "n = 5\n",
    "num_classes = 10\n",
    "\n",
    "# TODO: Implement ResNet via nn.Sequential\n",
    "resnet = nn.Sequential(\n",
    "    nn.Conv2d(3, 16, kernel_size=3, stride=1, padding=1, bias=False),\n",
    "    nn.BatchNorm2d(16),\n",
    "    nn.ReLU(),\n",
    "    ResidualStack(16, 16, 1, n),\n",
    "    ResidualStack(16, 32, 2, n),\n",
    "    ResidualStack(32, 64, 2, n),\n",
    "    nn.AdaptiveAvgPool2d(1),\n",
    "    Lambda(lambda x: x.squeeze()),\n",
    "    nn.Linear(64, num_classes)\n",
    ")"
   ]
  },
  {
   "cell_type": "markdown",
   "metadata": {},
   "source": [
    "Next we need to initialize the weights of our model."
   ]
  },
  {
   "cell_type": "code",
   "execution_count": 11,
   "metadata": {},
   "outputs": [],
   "source": [
    "def initialize_weight(module):\n",
    "    if isinstance(module, (nn.Linear, nn.Conv2d)):\n",
    "        nn.init.kaiming_normal_(module.weight, nonlinearity='relu')\n",
    "    elif isinstance(module, nn.BatchNorm2d):\n",
    "        nn.init.constant_(module.weight, 1)\n",
    "        nn.init.constant_(module.bias, 0)\n",
    "        \n",
    "resnet.apply(initialize_weight);"
   ]
  },
  {
   "cell_type": "markdown",
   "metadata": {},
   "source": [
    "# 4. Training\n",
    "So now we have a shiny new model, but that doesn't really help when we can't train it. So that's what we do next.\n",
    "\n",
    "First we need to load the data. Note that we split the official training data into train and validation sets, because you must not look at the test set until you are completely done developing your model and report the final results. Some people don't do this properly, but you should not copy other people's bad habits."
   ]
  },
  {
   "cell_type": "code",
   "execution_count": 12,
   "metadata": {},
   "outputs": [],
   "source": [
    "class CIFAR10Subset(torchvision.datasets.CIFAR10):\n",
    "    \"\"\"\n",
    "    Get a subset of the CIFAR10 dataset, according to the passed indices.\n",
    "    \"\"\"\n",
    "    def __init__(self, *args, idx=None, **kwargs):\n",
    "        super().__init__(*args, **kwargs)\n",
    "        \n",
    "        if idx is None:\n",
    "            return\n",
    "        \n",
    "        self.data = self.data[idx]\n",
    "        targets_np = np.array(self.targets)\n",
    "        self.targets = targets_np[idx].tolist()"
   ]
  },
  {
   "cell_type": "markdown",
   "metadata": {},
   "source": [
    "We next define transformations that change the images into PyTorch tensors, standardize the values according to the precomputed mean and standard deviation, and provide data augmentation for the training set."
   ]
  },
  {
   "cell_type": "code",
   "execution_count": 13,
   "metadata": {},
   "outputs": [],
   "source": [
    "normalize = transforms.Normalize(mean=[0.485, 0.456, 0.406],\n",
    "                                 std=[0.229, 0.224, 0.225])\n",
    "transform_train = transforms.Compose([\n",
    "    transforms.RandomHorizontalFlip(),\n",
    "    transforms.RandomCrop(32, 4),\n",
    "    transforms.ToTensor(),\n",
    "    normalize,\n",
    "])\n",
    "transform_eval = transforms.Compose([\n",
    "    transforms.ToTensor(),\n",
    "    normalize\n",
    "])"
   ]
  },
  {
   "cell_type": "code",
   "execution_count": 14,
   "metadata": {},
   "outputs": [
    {
     "name": "stdout",
     "output_type": "stream",
     "text": [
      "Files already downloaded and verified\n",
      "Files already downloaded and verified\n",
      "Files already downloaded and verified\n"
     ]
    }
   ],
   "source": [
    "ntrain = 45_000\n",
    "train_set = CIFAR10Subset(root='./data', train=True, idx=range(ntrain),\n",
    "                          download=True, transform=transform_train)\n",
    "val_set = CIFAR10Subset(root='./data', train=True, idx=range(ntrain, 50_000),\n",
    "                        download=True, transform=transform_eval)\n",
    "test_set = torchvision.datasets.CIFAR10(root='./data', train=False,\n",
    "                                        download=True, transform=transform_eval)"
   ]
  },
  {
   "cell_type": "code",
   "execution_count": 15,
   "metadata": {},
   "outputs": [],
   "source": [
    "dataloaders = {}\n",
    "dataloaders['train'] = torch.utils.data.DataLoader(train_set, batch_size=256,\n",
    "                                                   shuffle=True,\n",
    "                                                   pin_memory=True)\n",
    "dataloaders['val'] = torch.utils.data.DataLoader(val_set, batch_size=256,\n",
    "                                                 shuffle=False,\n",
    "                                                 pin_memory=True)\n",
    "dataloaders['test'] = torch.utils.data.DataLoader(test_set, batch_size=256,\n",
    "                                                  shuffle=False,\n",
    "                                                  pin_memory=True)"
   ]
  },
  {
   "cell_type": "markdown",
   "metadata": {},
   "source": [
    "Next we push the model to our GPU (if there is one)."
   ]
  },
  {
   "cell_type": "code",
   "execution_count": 16,
   "metadata": {},
   "outputs": [],
   "source": [
    "device = torch.device('cuda') if torch.cuda.is_available() else torch.device('cpu')\n",
    "resnet.to(device);"
   ]
  },
  {
   "cell_type": "markdown",
   "metadata": {},
   "source": [
    "Next we define a helper method that does one epoch of training or evaluation. We have only defined training here, so you need to implement the necessary changes for evaluation!"
   ]
  },
  {
   "cell_type": "code",
   "execution_count": 20,
   "metadata": {},
   "outputs": [],
   "source": [
    "def run_epoch(model, optimizer, dataloader, train):\n",
    "    \"\"\"\n",
    "    Run one epoch of training or evaluation.\n",
    "    \n",
    "    Args:\n",
    "        model: The model used for prediction\n",
    "        optimizer: Optimization algorithm for the model\n",
    "        dataloader: Dataloader providing the data to run our model on\n",
    "        train: Whether this epoch is used for training or evaluation\n",
    "        \n",
    "    Returns:\n",
    "        Loss and accuracy in this epoch.\n",
    "    \"\"\"\n",
    "    # TODO: Change the necessary parts to work correctly during evaluation (train=False)\n",
    "    \n",
    "    device = next(model.parameters()).device\n",
    "    \n",
    "    # Set model to training mode (for e.g. batch normalization, dropout)\n",
    "    if train:\n",
    "        model.train()\n",
    "    else:\n",
    "        model.eval()\n",
    "\n",
    "    epoch_loss = 0.0\n",
    "    epoch_acc = 0.0\n",
    "\n",
    "    # Iterate over data\n",
    "    for xb, yb in dataloader:\n",
    "        xb, yb = xb.to(device), yb.to(device)\n",
    "\n",
    "        # zero the parameter gradients\n",
    "        if train and optimizer is not None:\n",
    "            optimizer.zero_grad()\n",
    "\n",
    "        # forward\n",
    "        with torch.set_grad_enabled(train):\n",
    "            pred = model(xb)\n",
    "            loss = F.cross_entropy(pred, yb)\n",
    "            top1 = torch.argmax(pred, dim=1)\n",
    "            ncorrect = torch.sum(top1 == yb)\n",
    "\n",
    "            if train and optimizer is not None:\n",
    "                loss.backward()\n",
    "                optimizer.step()\n",
    "\n",
    "        # statistics\n",
    "        epoch_loss += loss.item()\n",
    "        epoch_acc += ncorrect.item()\n",
    "    \n",
    "    epoch_loss /= len(dataloader.dataset)\n",
    "    epoch_acc /= len(dataloader.dataset)\n",
    "    return epoch_loss, epoch_acc"
   ]
  },
  {
   "cell_type": "markdown",
   "metadata": {},
   "source": [
    "Next we implement a method for fitting (training) our model. For many models early stopping can save a lot of training time. Your task is to add early stopping to the loop (based on validation accuracy). Early stopping usually means exiting the training loop if the validation accuracy hasn't improved for `patience` number of steps. Don't forget to save the best model parameters according to validation accuracy. You will need `copy.deepcopy` and the `state_dict` for this."
   ]
  },
  {
   "cell_type": "code",
   "execution_count": 21,
   "metadata": {},
   "outputs": [],
   "source": [
    "def fit(model, optimizer, lr_scheduler, dataloaders, max_epochs, patience):\n",
    "    \"\"\"\n",
    "    Fit the given model on the dataset.\n",
    "    \n",
    "    Args:\n",
    "        model: The model used for prediction\n",
    "        optimizer: Optimization algorithm for the model\n",
    "        lr_scheduler: Learning rate scheduler that improves training\n",
    "                      in late epochs with learning rate decay\n",
    "        dataloaders: Dataloaders for training and validation\n",
    "        max_epochs: Maximum number of epochs for training\n",
    "        patience: Number of epochs to wait with early stopping the\n",
    "                  training if validation loss has decreased\n",
    "                  \n",
    "    Returns:\n",
    "        Loss and accuracy in this epoch.\n",
    "    \"\"\"\n",
    "    \n",
    "    best_acc = 0\n",
    "    curr_patience = 0\n",
    "    \n",
    "    for epoch in range(max_epochs):\n",
    "        train_loss, train_acc = run_epoch(model, optimizer, dataloaders['train'], train=True)\n",
    "        lr_scheduler.step()\n",
    "        print(f\"Epoch {epoch + 1: >3}/{max_epochs}, train loss: {train_loss:.2e}, accuracy: {train_acc * 100:.2f}%\")\n",
    "        \n",
    "        val_loss, val_acc = run_epoch(model, None, dataloaders['val'], train=False)\n",
    "        print(f\"Epoch {epoch + 1: >3}/{max_epochs}, val loss: {val_loss:.2e}, accuracy: {val_acc * 100:.2f}%\")\n",
    "        \n",
    "        # TODO: Add early stopping and save the best weights (in best_model_weights)\n",
    "        if val_acc > best_acc:\n",
    "            best_acc = val_acc\n",
    "            best_model_weights = copy.deepcopy(model.state_dict())\n",
    "            curr_patience = 0\n",
    "        else:\n",
    "            curr_patience += 1\n",
    "            if curr_patience >= patience:\n",
    "                break\n",
    "            \n",
    "    \n",
    "    model.load_state_dict(best_model_weights)"
   ]
  },
  {
   "cell_type": "markdown",
   "metadata": {},
   "source": [
    "In most cases you should just use the Adam optimizer for training, because it works well out of the box. However, a well-tuned SGD (with momentum) will in most cases outperform Adam. And since the original paper gives us a well-tuned SGD we will just use that."
   ]
  },
  {
   "cell_type": "code",
   "execution_count": 22,
   "metadata": {},
   "outputs": [
    {
     "name": "stdout",
     "output_type": "stream",
     "text": [
      "Epoch   1/200, train loss: 5.67e-03, accuracy: 46.00%\n",
      "Epoch   1/200, val loss: 5.61e-03, accuracy: 49.78%\n",
      "Epoch   2/200, train loss: 4.47e-03, accuracy: 58.80%\n",
      "Epoch   2/200, val loss: 4.43e-03, accuracy: 60.04%\n",
      "Epoch   3/200, train loss: 3.78e-03, accuracy: 65.49%\n",
      "Epoch   3/200, val loss: 4.07e-03, accuracy: 65.00%\n",
      "Epoch   4/200, train loss: 3.33e-03, accuracy: 69.84%\n",
      "Epoch   4/200, val loss: 3.72e-03, accuracy: 68.32%\n",
      "Epoch   5/200, train loss: 2.96e-03, accuracy: 73.35%\n",
      "Epoch   5/200, val loss: 3.38e-03, accuracy: 71.66%\n",
      "Epoch   6/200, train loss: 2.70e-03, accuracy: 75.88%\n",
      "Epoch   6/200, val loss: 3.71e-03, accuracy: 70.64%\n",
      "Epoch   7/200, train loss: 2.50e-03, accuracy: 77.76%\n",
      "Epoch   7/200, val loss: 2.64e-03, accuracy: 77.42%\n",
      "Epoch   8/200, train loss: 2.33e-03, accuracy: 79.32%\n",
      "Epoch   8/200, val loss: 2.79e-03, accuracy: 77.08%\n",
      "Epoch   9/200, train loss: 2.15e-03, accuracy: 80.86%\n",
      "Epoch   9/200, val loss: 2.73e-03, accuracy: 78.04%\n",
      "Epoch  10/200, train loss: 2.05e-03, accuracy: 81.74%\n",
      "Epoch  10/200, val loss: 3.82e-03, accuracy: 71.34%\n",
      "Epoch  11/200, train loss: 1.93e-03, accuracy: 82.82%\n",
      "Epoch  11/200, val loss: 2.81e-03, accuracy: 76.72%\n",
      "Epoch  12/200, train loss: 1.86e-03, accuracy: 83.54%\n",
      "Epoch  12/200, val loss: 2.42e-03, accuracy: 80.60%\n",
      "Epoch  13/200, train loss: 1.77e-03, accuracy: 84.46%\n",
      "Epoch  13/200, val loss: 2.98e-03, accuracy: 74.98%\n",
      "Epoch  14/200, train loss: 1.71e-03, accuracy: 84.82%\n",
      "Epoch  14/200, val loss: 2.04e-03, accuracy: 82.96%\n",
      "Epoch  15/200, train loss: 1.62e-03, accuracy: 85.76%\n",
      "Epoch  15/200, val loss: 2.34e-03, accuracy: 81.02%\n",
      "Epoch  16/200, train loss: 1.55e-03, accuracy: 86.02%\n",
      "Epoch  16/200, val loss: 2.00e-03, accuracy: 83.32%\n",
      "Epoch  17/200, train loss: 1.51e-03, accuracy: 86.50%\n",
      "Epoch  17/200, val loss: 2.37e-03, accuracy: 80.22%\n",
      "Epoch  18/200, train loss: 1.47e-03, accuracy: 86.91%\n",
      "Epoch  18/200, val loss: 2.42e-03, accuracy: 81.78%\n",
      "Epoch  19/200, train loss: 1.41e-03, accuracy: 87.37%\n",
      "Epoch  19/200, val loss: 2.31e-03, accuracy: 81.24%\n",
      "Epoch  20/200, train loss: 1.38e-03, accuracy: 87.62%\n",
      "Epoch  20/200, val loss: 1.91e-03, accuracy: 83.78%\n",
      "Epoch  21/200, train loss: 1.33e-03, accuracy: 88.20%\n",
      "Epoch  21/200, val loss: 2.35e-03, accuracy: 81.10%\n",
      "Epoch  22/200, train loss: 1.31e-03, accuracy: 88.35%\n",
      "Epoch  22/200, val loss: 1.89e-03, accuracy: 84.44%\n",
      "Epoch  23/200, train loss: 1.26e-03, accuracy: 88.62%\n",
      "Epoch  23/200, val loss: 1.91e-03, accuracy: 84.10%\n",
      "Epoch  24/200, train loss: 1.25e-03, accuracy: 88.76%\n",
      "Epoch  24/200, val loss: 1.94e-03, accuracy: 84.70%\n",
      "Epoch  25/200, train loss: 1.20e-03, accuracy: 89.31%\n",
      "Epoch  25/200, val loss: 1.72e-03, accuracy: 85.70%\n",
      "Epoch  26/200, train loss: 1.17e-03, accuracy: 89.58%\n",
      "Epoch  26/200, val loss: 1.75e-03, accuracy: 85.80%\n",
      "Epoch  27/200, train loss: 1.16e-03, accuracy: 89.79%\n",
      "Epoch  27/200, val loss: 2.08e-03, accuracy: 82.70%\n",
      "Epoch  28/200, train loss: 1.10e-03, accuracy: 90.22%\n",
      "Epoch  28/200, val loss: 1.74e-03, accuracy: 85.16%\n",
      "Epoch  29/200, train loss: 1.09e-03, accuracy: 90.36%\n",
      "Epoch  29/200, val loss: 2.91e-03, accuracy: 79.08%\n",
      "Epoch  30/200, train loss: 1.07e-03, accuracy: 90.41%\n",
      "Epoch  30/200, val loss: 1.84e-03, accuracy: 85.58%\n",
      "Epoch  31/200, train loss: 1.05e-03, accuracy: 90.73%\n",
      "Epoch  31/200, val loss: 1.74e-03, accuracy: 85.50%\n",
      "Epoch  32/200, train loss: 1.04e-03, accuracy: 90.65%\n",
      "Epoch  32/200, val loss: 2.55e-03, accuracy: 80.74%\n",
      "Epoch  33/200, train loss: 1.00e-03, accuracy: 91.01%\n",
      "Epoch  33/200, val loss: 2.06e-03, accuracy: 83.96%\n",
      "Epoch  34/200, train loss: 9.85e-04, accuracy: 91.24%\n",
      "Epoch  34/200, val loss: 1.86e-03, accuracy: 85.28%\n",
      "Epoch  35/200, train loss: 9.64e-04, accuracy: 91.36%\n",
      "Epoch  35/200, val loss: 1.97e-03, accuracy: 85.70%\n",
      "Epoch  36/200, train loss: 9.61e-04, accuracy: 91.38%\n",
      "Epoch  36/200, val loss: 1.87e-03, accuracy: 85.38%\n",
      "Epoch  37/200, train loss: 9.57e-04, accuracy: 91.45%\n",
      "Epoch  37/200, val loss: 1.65e-03, accuracy: 87.48%\n",
      "Epoch  38/200, train loss: 9.24e-04, accuracy: 91.90%\n",
      "Epoch  38/200, val loss: 1.91e-03, accuracy: 85.42%\n",
      "Epoch  39/200, train loss: 9.19e-04, accuracy: 91.72%\n",
      "Epoch  39/200, val loss: 1.89e-03, accuracy: 85.38%\n",
      "Epoch  40/200, train loss: 8.71e-04, accuracy: 92.18%\n",
      "Epoch  40/200, val loss: 1.81e-03, accuracy: 86.30%\n",
      "Epoch  41/200, train loss: 8.73e-04, accuracy: 92.12%\n",
      "Epoch  41/200, val loss: 2.47e-03, accuracy: 83.30%\n",
      "Epoch  42/200, train loss: 8.86e-04, accuracy: 92.04%\n",
      "Epoch  42/200, val loss: 2.74e-03, accuracy: 80.84%\n",
      "Epoch  43/200, train loss: 8.72e-04, accuracy: 92.06%\n",
      "Epoch  43/200, val loss: 1.87e-03, accuracy: 85.32%\n",
      "Epoch  44/200, train loss: 8.54e-04, accuracy: 92.28%\n",
      "Epoch  44/200, val loss: 1.65e-03, accuracy: 87.22%\n",
      "Epoch  45/200, train loss: 8.52e-04, accuracy: 92.28%\n",
      "Epoch  45/200, val loss: 1.87e-03, accuracy: 85.94%\n",
      "Epoch  46/200, train loss: 8.13e-04, accuracy: 92.63%\n",
      "Epoch  46/200, val loss: 2.32e-03, accuracy: 84.32%\n",
      "Epoch  47/200, train loss: 8.00e-04, accuracy: 92.78%\n",
      "Epoch  47/200, val loss: 2.20e-03, accuracy: 83.94%\n",
      "Epoch  48/200, train loss: 7.89e-04, accuracy: 92.96%\n",
      "Epoch  48/200, val loss: 2.14e-03, accuracy: 84.48%\n",
      "Epoch  49/200, train loss: 7.97e-04, accuracy: 92.84%\n",
      "Epoch  49/200, val loss: 1.91e-03, accuracy: 86.10%\n",
      "Epoch  50/200, train loss: 7.61e-04, accuracy: 92.99%\n",
      "Epoch  50/200, val loss: 2.35e-03, accuracy: 83.66%\n",
      "Epoch  51/200, train loss: 7.64e-04, accuracy: 93.18%\n",
      "Epoch  51/200, val loss: 1.47e-03, accuracy: 88.50%\n",
      "Epoch  52/200, train loss: 7.87e-04, accuracy: 92.74%\n",
      "Epoch  52/200, val loss: 1.71e-03, accuracy: 87.38%\n",
      "Epoch  53/200, train loss: 7.57e-04, accuracy: 93.11%\n",
      "Epoch  53/200, val loss: 2.31e-03, accuracy: 84.08%\n",
      "Epoch  54/200, train loss: 7.29e-04, accuracy: 93.54%\n",
      "Epoch  54/200, val loss: 1.61e-03, accuracy: 87.68%\n",
      "Epoch  55/200, train loss: 7.30e-04, accuracy: 93.42%\n",
      "Epoch  55/200, val loss: 1.81e-03, accuracy: 85.74%\n",
      "Epoch  56/200, train loss: 7.02e-04, accuracy: 93.54%\n",
      "Epoch  56/200, val loss: 2.17e-03, accuracy: 84.70%\n",
      "Epoch  57/200, train loss: 7.03e-04, accuracy: 93.67%\n",
      "Epoch  57/200, val loss: 2.22e-03, accuracy: 85.24%\n",
      "Epoch  58/200, train loss: 7.20e-04, accuracy: 93.49%\n",
      "Epoch  58/200, val loss: 2.02e-03, accuracy: 85.26%\n",
      "Epoch  59/200, train loss: 7.05e-04, accuracy: 93.70%\n",
      "Epoch  59/200, val loss: 2.20e-03, accuracy: 84.64%\n",
      "Epoch  60/200, train loss: 6.74e-04, accuracy: 93.94%\n",
      "Epoch  60/200, val loss: 1.78e-03, accuracy: 87.44%\n",
      "Epoch  61/200, train loss: 6.78e-04, accuracy: 93.88%\n",
      "Epoch  61/200, val loss: 1.93e-03, accuracy: 86.30%\n",
      "Epoch  62/200, train loss: 6.81e-04, accuracy: 93.88%\n",
      "Epoch  62/200, val loss: 1.71e-03, accuracy: 87.62%\n",
      "Epoch  63/200, train loss: 6.70e-04, accuracy: 93.88%\n",
      "Epoch  63/200, val loss: 2.19e-03, accuracy: 85.32%\n",
      "Epoch  64/200, train loss: 6.66e-04, accuracy: 93.92%\n",
      "Epoch  64/200, val loss: 1.99e-03, accuracy: 85.40%\n",
      "Epoch  65/200, train loss: 6.69e-04, accuracy: 93.97%\n",
      "Epoch  65/200, val loss: 2.38e-03, accuracy: 84.48%\n",
      "Epoch  66/200, train loss: 6.56e-04, accuracy: 94.04%\n",
      "Epoch  66/200, val loss: 1.97e-03, accuracy: 86.10%\n",
      "Epoch  67/200, train loss: 6.53e-04, accuracy: 94.10%\n",
      "Epoch  67/200, val loss: 2.21e-03, accuracy: 84.30%\n",
      "Epoch  68/200, train loss: 6.36e-04, accuracy: 94.22%\n",
      "Epoch  68/200, val loss: 1.91e-03, accuracy: 86.68%\n",
      "Epoch  69/200, train loss: 6.55e-04, accuracy: 94.02%\n",
      "Epoch  69/200, val loss: 2.04e-03, accuracy: 85.64%\n",
      "Epoch  70/200, train loss: 6.46e-04, accuracy: 94.07%\n",
      "Epoch  70/200, val loss: 2.15e-03, accuracy: 86.04%\n",
      "Epoch  71/200, train loss: 6.31e-04, accuracy: 94.28%\n",
      "Epoch  71/200, val loss: 1.94e-03, accuracy: 86.68%\n",
      "Epoch  72/200, train loss: 6.25e-04, accuracy: 94.24%\n",
      "Epoch  72/200, val loss: 1.93e-03, accuracy: 86.96%\n",
      "Epoch  73/200, train loss: 6.06e-04, accuracy: 94.47%\n",
      "Epoch  73/200, val loss: 1.75e-03, accuracy: 87.30%\n",
      "Epoch  74/200, train loss: 6.15e-04, accuracy: 94.34%\n",
      "Epoch  74/200, val loss: 2.10e-03, accuracy: 85.80%\n",
      "Epoch  75/200, train loss: 6.12e-04, accuracy: 94.52%\n",
      "Epoch  75/200, val loss: 1.80e-03, accuracy: 87.14%\n",
      "Epoch  76/200, train loss: 6.05e-04, accuracy: 94.43%\n",
      "Epoch  76/200, val loss: 1.79e-03, accuracy: 87.00%\n",
      "Epoch  77/200, train loss: 6.02e-04, accuracy: 94.56%\n",
      "Epoch  77/200, val loss: 1.68e-03, accuracy: 88.30%\n",
      "Epoch  78/200, train loss: 5.89e-04, accuracy: 94.54%\n",
      "Epoch  78/200, val loss: 1.89e-03, accuracy: 86.86%\n",
      "Epoch  79/200, train loss: 5.95e-04, accuracy: 94.49%\n",
      "Epoch  79/200, val loss: 1.93e-03, accuracy: 86.66%\n",
      "Epoch  80/200, train loss: 5.78e-04, accuracy: 94.81%\n",
      "Epoch  80/200, val loss: 1.82e-03, accuracy: 87.36%\n",
      "Epoch  81/200, train loss: 5.65e-04, accuracy: 94.77%\n",
      "Epoch  81/200, val loss: 2.18e-03, accuracy: 85.60%\n",
      "Epoch  82/200, train loss: 5.81e-04, accuracy: 94.53%\n",
      "Epoch  82/200, val loss: 2.28e-03, accuracy: 84.86%\n",
      "Epoch  83/200, train loss: 5.87e-04, accuracy: 94.86%\n",
      "Epoch  83/200, val loss: 1.75e-03, accuracy: 87.16%\n",
      "Epoch  84/200, train loss: 5.80e-04, accuracy: 94.85%\n",
      "Epoch  84/200, val loss: 1.69e-03, accuracy: 87.70%\n",
      "Epoch  85/200, train loss: 5.34e-04, accuracy: 95.11%\n",
      "Epoch  85/200, val loss: 1.77e-03, accuracy: 87.92%\n",
      "Epoch  86/200, train loss: 5.69e-04, accuracy: 94.97%\n",
      "Epoch  86/200, val loss: 1.78e-03, accuracy: 87.44%\n",
      "Epoch  87/200, train loss: 5.42e-04, accuracy: 95.06%\n",
      "Epoch  87/200, val loss: 1.80e-03, accuracy: 87.92%\n",
      "Epoch  88/200, train loss: 5.54e-04, accuracy: 94.85%\n",
      "Epoch  88/200, val loss: 1.84e-03, accuracy: 87.30%\n",
      "Epoch  89/200, train loss: 5.57e-04, accuracy: 94.93%\n",
      "Epoch  89/200, val loss: 1.71e-03, accuracy: 88.54%\n",
      "Epoch  90/200, train loss: 5.42e-04, accuracy: 95.01%\n",
      "Epoch  90/200, val loss: 1.82e-03, accuracy: 86.94%\n",
      "Epoch  91/200, train loss: 5.33e-04, accuracy: 95.23%\n",
      "Epoch  91/200, val loss: 1.88e-03, accuracy: 86.60%\n",
      "Epoch  92/200, train loss: 5.54e-04, accuracy: 94.97%\n",
      "Epoch  92/200, val loss: 1.77e-03, accuracy: 88.12%\n",
      "Epoch  93/200, train loss: 5.58e-04, accuracy: 95.01%\n",
      "Epoch  93/200, val loss: 1.91e-03, accuracy: 86.56%\n",
      "Epoch  94/200, train loss: 5.52e-04, accuracy: 95.06%\n",
      "Epoch  94/200, val loss: 2.80e-03, accuracy: 82.74%\n",
      "Epoch  95/200, train loss: 5.35e-04, accuracy: 95.13%\n",
      "Epoch  95/200, val loss: 1.74e-03, accuracy: 87.30%\n",
      "Epoch  96/200, train loss: 5.56e-04, accuracy: 94.87%\n",
      "Epoch  96/200, val loss: 1.87e-03, accuracy: 87.00%\n",
      "Epoch  97/200, train loss: 5.52e-04, accuracy: 94.94%\n",
      "Epoch  97/200, val loss: 2.01e-03, accuracy: 86.42%\n",
      "Epoch  98/200, train loss: 5.16e-04, accuracy: 95.37%\n",
      "Epoch  98/200, val loss: 1.98e-03, accuracy: 87.58%\n",
      "Epoch  99/200, train loss: 5.32e-04, accuracy: 95.14%\n",
      "Epoch  99/200, val loss: 2.36e-03, accuracy: 85.48%\n",
      "Epoch 100/200, train loss: 5.15e-04, accuracy: 95.30%\n",
      "Epoch 100/200, val loss: 1.81e-03, accuracy: 87.10%\n",
      "Epoch 101/200, train loss: 2.95e-04, accuracy: 97.50%\n",
      "Epoch 101/200, val loss: 1.17e-03, accuracy: 91.38%\n",
      "Epoch 102/200, train loss: 2.06e-04, accuracy: 98.38%\n",
      "Epoch 102/200, val loss: 1.19e-03, accuracy: 91.52%\n",
      "Epoch 103/200, train loss: 1.74e-04, accuracy: 98.62%\n",
      "Epoch 103/200, val loss: 1.20e-03, accuracy: 91.70%\n",
      "Epoch 104/200, train loss: 1.55e-04, accuracy: 98.84%\n",
      "Epoch 104/200, val loss: 1.21e-03, accuracy: 91.78%\n"
     ]
    },
    {
     "ename": "KeyboardInterrupt",
     "evalue": "",
     "output_type": "error",
     "traceback": [
      "\u001b[1;31m---------------------------------------------------------------------------\u001b[0m",
      "\u001b[1;31mKeyboardInterrupt\u001b[0m                         Traceback (most recent call last)",
      "Cell \u001b[1;32mIn[22], line 5\u001b[0m\n\u001b[0;32m      2\u001b[0m lr_scheduler \u001b[38;5;241m=\u001b[39m torch\u001b[38;5;241m.\u001b[39moptim\u001b[38;5;241m.\u001b[39mlr_scheduler\u001b[38;5;241m.\u001b[39mMultiStepLR(optimizer, milestones\u001b[38;5;241m=\u001b[39m[\u001b[38;5;241m100\u001b[39m, \u001b[38;5;241m150\u001b[39m], gamma\u001b[38;5;241m=\u001b[39m\u001b[38;5;241m0.1\u001b[39m)\n\u001b[0;32m      4\u001b[0m \u001b[38;5;66;03m# Fit model\u001b[39;00m\n\u001b[1;32m----> 5\u001b[0m \u001b[43mfit\u001b[49m\u001b[43m(\u001b[49m\u001b[43mresnet\u001b[49m\u001b[43m,\u001b[49m\u001b[43m \u001b[49m\u001b[43moptimizer\u001b[49m\u001b[43m,\u001b[49m\u001b[43m \u001b[49m\u001b[43mlr_scheduler\u001b[49m\u001b[43m,\u001b[49m\u001b[43m \u001b[49m\u001b[43mdataloaders\u001b[49m\u001b[43m,\u001b[49m\u001b[43m \u001b[49m\u001b[43mmax_epochs\u001b[49m\u001b[38;5;241;43m=\u001b[39;49m\u001b[38;5;241;43m200\u001b[39;49m\u001b[43m,\u001b[49m\u001b[43m \u001b[49m\u001b[43mpatience\u001b[49m\u001b[38;5;241;43m=\u001b[39;49m\u001b[38;5;241;43m50\u001b[39;49m\u001b[43m)\u001b[49m\n",
      "Cell \u001b[1;32mIn[21], line 23\u001b[0m, in \u001b[0;36mfit\u001b[1;34m(model, optimizer, lr_scheduler, dataloaders, max_epochs, patience)\u001b[0m\n\u001b[0;32m     20\u001b[0m curr_patience \u001b[38;5;241m=\u001b[39m \u001b[38;5;241m0\u001b[39m\n\u001b[0;32m     22\u001b[0m \u001b[38;5;28;01mfor\u001b[39;00m epoch \u001b[38;5;129;01min\u001b[39;00m \u001b[38;5;28mrange\u001b[39m(max_epochs):\n\u001b[1;32m---> 23\u001b[0m     train_loss, train_acc \u001b[38;5;241m=\u001b[39m \u001b[43mrun_epoch\u001b[49m\u001b[43m(\u001b[49m\u001b[43mmodel\u001b[49m\u001b[43m,\u001b[49m\u001b[43m \u001b[49m\u001b[43moptimizer\u001b[49m\u001b[43m,\u001b[49m\u001b[43m \u001b[49m\u001b[43mdataloaders\u001b[49m\u001b[43m[\u001b[49m\u001b[38;5;124;43m'\u001b[39;49m\u001b[38;5;124;43mtrain\u001b[39;49m\u001b[38;5;124;43m'\u001b[39;49m\u001b[43m]\u001b[49m\u001b[43m,\u001b[49m\u001b[43m \u001b[49m\u001b[43mtrain\u001b[49m\u001b[38;5;241;43m=\u001b[39;49m\u001b[38;5;28;43;01mTrue\u001b[39;49;00m\u001b[43m)\u001b[49m\n\u001b[0;32m     24\u001b[0m     lr_scheduler\u001b[38;5;241m.\u001b[39mstep()\n\u001b[0;32m     25\u001b[0m     \u001b[38;5;28mprint\u001b[39m(\u001b[38;5;124mf\u001b[39m\u001b[38;5;124m\"\u001b[39m\u001b[38;5;124mEpoch \u001b[39m\u001b[38;5;132;01m{\u001b[39;00mepoch\u001b[38;5;250m \u001b[39m\u001b[38;5;241m+\u001b[39m\u001b[38;5;250m \u001b[39m\u001b[38;5;241m1\u001b[39m\u001b[38;5;132;01m:\u001b[39;00m\u001b[38;5;124m >3\u001b[39m\u001b[38;5;132;01m}\u001b[39;00m\u001b[38;5;124m/\u001b[39m\u001b[38;5;132;01m{\u001b[39;00mmax_epochs\u001b[38;5;132;01m}\u001b[39;00m\u001b[38;5;124m, train loss: \u001b[39m\u001b[38;5;132;01m{\u001b[39;00mtrain_loss\u001b[38;5;132;01m:\u001b[39;00m\u001b[38;5;124m.2e\u001b[39m\u001b[38;5;132;01m}\u001b[39;00m\u001b[38;5;124m, accuracy: \u001b[39m\u001b[38;5;132;01m{\u001b[39;00mtrain_acc\u001b[38;5;250m \u001b[39m\u001b[38;5;241m*\u001b[39m\u001b[38;5;250m \u001b[39m\u001b[38;5;241m100\u001b[39m\u001b[38;5;132;01m:\u001b[39;00m\u001b[38;5;124m.2f\u001b[39m\u001b[38;5;132;01m}\u001b[39;00m\u001b[38;5;124m%\u001b[39m\u001b[38;5;124m\"\u001b[39m)\n",
      "Cell \u001b[1;32mIn[20], line 28\u001b[0m, in \u001b[0;36mrun_epoch\u001b[1;34m(model, optimizer, dataloader, train)\u001b[0m\n\u001b[0;32m     25\u001b[0m epoch_acc \u001b[38;5;241m=\u001b[39m \u001b[38;5;241m0.0\u001b[39m\n\u001b[0;32m     27\u001b[0m \u001b[38;5;66;03m# Iterate over data\u001b[39;00m\n\u001b[1;32m---> 28\u001b[0m \u001b[38;5;28;01mfor\u001b[39;00m xb, yb \u001b[38;5;129;01min\u001b[39;00m dataloader:\n\u001b[0;32m     29\u001b[0m     xb, yb \u001b[38;5;241m=\u001b[39m xb\u001b[38;5;241m.\u001b[39mto(device), yb\u001b[38;5;241m.\u001b[39mto(device)\n\u001b[0;32m     31\u001b[0m     \u001b[38;5;66;03m# zero the parameter gradients\u001b[39;00m\n",
      "File \u001b[1;32mc:\\Users\\yijia\\anaconda3\\envs\\ml_env\\lib\\site-packages\\torch\\utils\\data\\dataloader.py:630\u001b[0m, in \u001b[0;36m_BaseDataLoaderIter.__next__\u001b[1;34m(self)\u001b[0m\n\u001b[0;32m    627\u001b[0m \u001b[38;5;28;01mif\u001b[39;00m \u001b[38;5;28mself\u001b[39m\u001b[38;5;241m.\u001b[39m_sampler_iter \u001b[38;5;129;01mis\u001b[39;00m \u001b[38;5;28;01mNone\u001b[39;00m:\n\u001b[0;32m    628\u001b[0m     \u001b[38;5;66;03m# TODO(https://github.com/pytorch/pytorch/issues/76750)\u001b[39;00m\n\u001b[0;32m    629\u001b[0m     \u001b[38;5;28mself\u001b[39m\u001b[38;5;241m.\u001b[39m_reset()  \u001b[38;5;66;03m# type: ignore[call-arg]\u001b[39;00m\n\u001b[1;32m--> 630\u001b[0m data \u001b[38;5;241m=\u001b[39m \u001b[38;5;28;43mself\u001b[39;49m\u001b[38;5;241;43m.\u001b[39;49m\u001b[43m_next_data\u001b[49m\u001b[43m(\u001b[49m\u001b[43m)\u001b[49m\n\u001b[0;32m    631\u001b[0m \u001b[38;5;28mself\u001b[39m\u001b[38;5;241m.\u001b[39m_num_yielded \u001b[38;5;241m+\u001b[39m\u001b[38;5;241m=\u001b[39m \u001b[38;5;241m1\u001b[39m\n\u001b[0;32m    632\u001b[0m \u001b[38;5;28;01mif\u001b[39;00m \u001b[38;5;28mself\u001b[39m\u001b[38;5;241m.\u001b[39m_dataset_kind \u001b[38;5;241m==\u001b[39m _DatasetKind\u001b[38;5;241m.\u001b[39mIterable \u001b[38;5;129;01mand\u001b[39;00m \\\n\u001b[0;32m    633\u001b[0m         \u001b[38;5;28mself\u001b[39m\u001b[38;5;241m.\u001b[39m_IterableDataset_len_called \u001b[38;5;129;01mis\u001b[39;00m \u001b[38;5;129;01mnot\u001b[39;00m \u001b[38;5;28;01mNone\u001b[39;00m \u001b[38;5;129;01mand\u001b[39;00m \\\n\u001b[0;32m    634\u001b[0m         \u001b[38;5;28mself\u001b[39m\u001b[38;5;241m.\u001b[39m_num_yielded \u001b[38;5;241m>\u001b[39m \u001b[38;5;28mself\u001b[39m\u001b[38;5;241m.\u001b[39m_IterableDataset_len_called:\n",
      "File \u001b[1;32mc:\\Users\\yijia\\anaconda3\\envs\\ml_env\\lib\\site-packages\\torch\\utils\\data\\dataloader.py:673\u001b[0m, in \u001b[0;36m_SingleProcessDataLoaderIter._next_data\u001b[1;34m(self)\u001b[0m\n\u001b[0;32m    671\u001b[0m \u001b[38;5;28;01mdef\u001b[39;00m \u001b[38;5;21m_next_data\u001b[39m(\u001b[38;5;28mself\u001b[39m):\n\u001b[0;32m    672\u001b[0m     index \u001b[38;5;241m=\u001b[39m \u001b[38;5;28mself\u001b[39m\u001b[38;5;241m.\u001b[39m_next_index()  \u001b[38;5;66;03m# may raise StopIteration\u001b[39;00m\n\u001b[1;32m--> 673\u001b[0m     data \u001b[38;5;241m=\u001b[39m \u001b[38;5;28;43mself\u001b[39;49m\u001b[38;5;241;43m.\u001b[39;49m\u001b[43m_dataset_fetcher\u001b[49m\u001b[38;5;241;43m.\u001b[39;49m\u001b[43mfetch\u001b[49m\u001b[43m(\u001b[49m\u001b[43mindex\u001b[49m\u001b[43m)\u001b[49m  \u001b[38;5;66;03m# may raise StopIteration\u001b[39;00m\n\u001b[0;32m    674\u001b[0m     \u001b[38;5;28;01mif\u001b[39;00m \u001b[38;5;28mself\u001b[39m\u001b[38;5;241m.\u001b[39m_pin_memory:\n\u001b[0;32m    675\u001b[0m         data \u001b[38;5;241m=\u001b[39m _utils\u001b[38;5;241m.\u001b[39mpin_memory\u001b[38;5;241m.\u001b[39mpin_memory(data, \u001b[38;5;28mself\u001b[39m\u001b[38;5;241m.\u001b[39m_pin_memory_device)\n",
      "File \u001b[1;32mc:\\Users\\yijia\\anaconda3\\envs\\ml_env\\lib\\site-packages\\torch\\utils\\data\\_utils\\fetch.py:52\u001b[0m, in \u001b[0;36m_MapDatasetFetcher.fetch\u001b[1;34m(self, possibly_batched_index)\u001b[0m\n\u001b[0;32m     50\u001b[0m         data \u001b[38;5;241m=\u001b[39m \u001b[38;5;28mself\u001b[39m\u001b[38;5;241m.\u001b[39mdataset\u001b[38;5;241m.\u001b[39m__getitems__(possibly_batched_index)\n\u001b[0;32m     51\u001b[0m     \u001b[38;5;28;01melse\u001b[39;00m:\n\u001b[1;32m---> 52\u001b[0m         data \u001b[38;5;241m=\u001b[39m [\u001b[38;5;28mself\u001b[39m\u001b[38;5;241m.\u001b[39mdataset[idx] \u001b[38;5;28;01mfor\u001b[39;00m idx \u001b[38;5;129;01min\u001b[39;00m possibly_batched_index]\n\u001b[0;32m     53\u001b[0m \u001b[38;5;28;01melse\u001b[39;00m:\n\u001b[0;32m     54\u001b[0m     data \u001b[38;5;241m=\u001b[39m \u001b[38;5;28mself\u001b[39m\u001b[38;5;241m.\u001b[39mdataset[possibly_batched_index]\n",
      "File \u001b[1;32mc:\\Users\\yijia\\anaconda3\\envs\\ml_env\\lib\\site-packages\\torch\\utils\\data\\_utils\\fetch.py:52\u001b[0m, in \u001b[0;36m<listcomp>\u001b[1;34m(.0)\u001b[0m\n\u001b[0;32m     50\u001b[0m         data \u001b[38;5;241m=\u001b[39m \u001b[38;5;28mself\u001b[39m\u001b[38;5;241m.\u001b[39mdataset\u001b[38;5;241m.\u001b[39m__getitems__(possibly_batched_index)\n\u001b[0;32m     51\u001b[0m     \u001b[38;5;28;01melse\u001b[39;00m:\n\u001b[1;32m---> 52\u001b[0m         data \u001b[38;5;241m=\u001b[39m [\u001b[38;5;28;43mself\u001b[39;49m\u001b[38;5;241;43m.\u001b[39;49m\u001b[43mdataset\u001b[49m\u001b[43m[\u001b[49m\u001b[43midx\u001b[49m\u001b[43m]\u001b[49m \u001b[38;5;28;01mfor\u001b[39;00m idx \u001b[38;5;129;01min\u001b[39;00m possibly_batched_index]\n\u001b[0;32m     53\u001b[0m \u001b[38;5;28;01melse\u001b[39;00m:\n\u001b[0;32m     54\u001b[0m     data \u001b[38;5;241m=\u001b[39m \u001b[38;5;28mself\u001b[39m\u001b[38;5;241m.\u001b[39mdataset[possibly_batched_index]\n",
      "File \u001b[1;32mc:\\Users\\yijia\\anaconda3\\envs\\ml_env\\lib\\site-packages\\torchvision\\datasets\\cifar.py:119\u001b[0m, in \u001b[0;36mCIFAR10.__getitem__\u001b[1;34m(self, index)\u001b[0m\n\u001b[0;32m    116\u001b[0m img \u001b[38;5;241m=\u001b[39m Image\u001b[38;5;241m.\u001b[39mfromarray(img)\n\u001b[0;32m    118\u001b[0m \u001b[38;5;28;01mif\u001b[39;00m \u001b[38;5;28mself\u001b[39m\u001b[38;5;241m.\u001b[39mtransform \u001b[38;5;129;01mis\u001b[39;00m \u001b[38;5;129;01mnot\u001b[39;00m \u001b[38;5;28;01mNone\u001b[39;00m:\n\u001b[1;32m--> 119\u001b[0m     img \u001b[38;5;241m=\u001b[39m \u001b[38;5;28;43mself\u001b[39;49m\u001b[38;5;241;43m.\u001b[39;49m\u001b[43mtransform\u001b[49m\u001b[43m(\u001b[49m\u001b[43mimg\u001b[49m\u001b[43m)\u001b[49m\n\u001b[0;32m    121\u001b[0m \u001b[38;5;28;01mif\u001b[39;00m \u001b[38;5;28mself\u001b[39m\u001b[38;5;241m.\u001b[39mtarget_transform \u001b[38;5;129;01mis\u001b[39;00m \u001b[38;5;129;01mnot\u001b[39;00m \u001b[38;5;28;01mNone\u001b[39;00m:\n\u001b[0;32m    122\u001b[0m     target \u001b[38;5;241m=\u001b[39m \u001b[38;5;28mself\u001b[39m\u001b[38;5;241m.\u001b[39mtarget_transform(target)\n",
      "File \u001b[1;32mc:\\Users\\yijia\\anaconda3\\envs\\ml_env\\lib\\site-packages\\torchvision\\transforms\\transforms.py:95\u001b[0m, in \u001b[0;36mCompose.__call__\u001b[1;34m(self, img)\u001b[0m\n\u001b[0;32m     93\u001b[0m \u001b[38;5;28;01mdef\u001b[39;00m \u001b[38;5;21m__call__\u001b[39m(\u001b[38;5;28mself\u001b[39m, img):\n\u001b[0;32m     94\u001b[0m     \u001b[38;5;28;01mfor\u001b[39;00m t \u001b[38;5;129;01min\u001b[39;00m \u001b[38;5;28mself\u001b[39m\u001b[38;5;241m.\u001b[39mtransforms:\n\u001b[1;32m---> 95\u001b[0m         img \u001b[38;5;241m=\u001b[39m \u001b[43mt\u001b[49m\u001b[43m(\u001b[49m\u001b[43mimg\u001b[49m\u001b[43m)\u001b[49m\n\u001b[0;32m     96\u001b[0m     \u001b[38;5;28;01mreturn\u001b[39;00m img\n",
      "File \u001b[1;32mc:\\Users\\yijia\\anaconda3\\envs\\ml_env\\lib\\site-packages\\torchvision\\transforms\\transforms.py:137\u001b[0m, in \u001b[0;36mToTensor.__call__\u001b[1;34m(self, pic)\u001b[0m\n\u001b[0;32m    129\u001b[0m \u001b[38;5;28;01mdef\u001b[39;00m \u001b[38;5;21m__call__\u001b[39m(\u001b[38;5;28mself\u001b[39m, pic):\n\u001b[0;32m    130\u001b[0m \u001b[38;5;250m    \u001b[39m\u001b[38;5;124;03m\"\"\"\u001b[39;00m\n\u001b[0;32m    131\u001b[0m \u001b[38;5;124;03m    Args:\u001b[39;00m\n\u001b[0;32m    132\u001b[0m \u001b[38;5;124;03m        pic (PIL Image or numpy.ndarray): Image to be converted to tensor.\u001b[39;00m\n\u001b[1;32m   (...)\u001b[0m\n\u001b[0;32m    135\u001b[0m \u001b[38;5;124;03m        Tensor: Converted image.\u001b[39;00m\n\u001b[0;32m    136\u001b[0m \u001b[38;5;124;03m    \"\"\"\u001b[39;00m\n\u001b[1;32m--> 137\u001b[0m     \u001b[38;5;28;01mreturn\u001b[39;00m \u001b[43mF\u001b[49m\u001b[38;5;241;43m.\u001b[39;49m\u001b[43mto_tensor\u001b[49m\u001b[43m(\u001b[49m\u001b[43mpic\u001b[49m\u001b[43m)\u001b[49m\n",
      "File \u001b[1;32mc:\\Users\\yijia\\anaconda3\\envs\\ml_env\\lib\\site-packages\\torchvision\\transforms\\functional.py:176\u001b[0m, in \u001b[0;36mto_tensor\u001b[1;34m(pic)\u001b[0m\n\u001b[0;32m    174\u001b[0m img \u001b[38;5;241m=\u001b[39m img\u001b[38;5;241m.\u001b[39mpermute((\u001b[38;5;241m2\u001b[39m, \u001b[38;5;241m0\u001b[39m, \u001b[38;5;241m1\u001b[39m))\u001b[38;5;241m.\u001b[39mcontiguous()\n\u001b[0;32m    175\u001b[0m \u001b[38;5;28;01mif\u001b[39;00m \u001b[38;5;28misinstance\u001b[39m(img, torch\u001b[38;5;241m.\u001b[39mByteTensor):\n\u001b[1;32m--> 176\u001b[0m     \u001b[38;5;28;01mreturn\u001b[39;00m \u001b[43mimg\u001b[49m\u001b[38;5;241;43m.\u001b[39;49m\u001b[43mto\u001b[49m\u001b[43m(\u001b[49m\u001b[43mdtype\u001b[49m\u001b[38;5;241;43m=\u001b[39;49m\u001b[43mdefault_float_dtype\u001b[49m\u001b[43m)\u001b[49m\u001b[38;5;241;43m.\u001b[39;49m\u001b[43mdiv\u001b[49m\u001b[43m(\u001b[49m\u001b[38;5;241;43m255\u001b[39;49m\u001b[43m)\u001b[49m\n\u001b[0;32m    177\u001b[0m \u001b[38;5;28;01melse\u001b[39;00m:\n\u001b[0;32m    178\u001b[0m     \u001b[38;5;28;01mreturn\u001b[39;00m img\n",
      "\u001b[1;31mKeyboardInterrupt\u001b[0m: "
     ]
    }
   ],
   "source": [
    "optimizer = torch.optim.SGD(resnet.parameters(), lr=0.1, momentum=0.9, weight_decay=1e-4)\n",
    "lr_scheduler = torch.optim.lr_scheduler.MultiStepLR(optimizer, milestones=[100, 150], gamma=0.1)\n",
    "\n",
    "# Fit model\n",
    "fit(resnet, optimizer, lr_scheduler, dataloaders, max_epochs=200, patience=50)"
   ]
  },
  {
   "cell_type": "markdown",
   "metadata": {},
   "source": [
    "Once the model is trained we run it on the test set to obtain our final accuracy.\n",
    "Note that we can only look at the test set once, everything else would lead to overfitting. So you _must_ ignore the test set while developing your model!"
   ]
  },
  {
   "cell_type": "code",
   "execution_count": 23,
   "metadata": {},
   "outputs": [
    {
     "name": "stdout",
     "output_type": "stream",
     "text": [
      "Test loss: 1.3e-03, accuracy: 91.56%\n"
     ]
    }
   ],
   "source": [
    "test_loss, test_acc = run_epoch(resnet, None, dataloaders['test'], train=False)\n",
    "print(f\"Test loss: {test_loss:.1e}, accuracy: {test_acc * 100:.2f}%\")"
   ]
  },
  {
   "cell_type": "markdown",
   "metadata": {},
   "source": [
    "That's almost what was reported in the paper (92.49%) and we didn't even train on the full training set."
   ]
  },
  {
   "cell_type": "markdown",
   "metadata": {},
   "source": [
    "# Optional task: Squeeze out all the juice!"
   ]
  },
  {
   "cell_type": "markdown",
   "metadata": {},
   "source": [
    "Can you do even better? Have a look at [A Recipe for Training Neural Networks](https://karpathy.github.io/2019/04/25/recipe/) and some state-of-the-art architectures such as [EfficientNet architecture](https://ai.googleblog.com/2019/05/efficientnet-improving-accuracy-and.html). Play around with the possibilities PyTorch offers you and see how close you can get to the [state of the art on CIFAR-10](https://paperswithcode.com/sota/image-classification-on-cifar-10)."
   ]
  }
 ],
 "metadata": {
  "kernelspec": {
   "display_name": "ml_env",
   "language": "python",
   "name": "python3"
  },
  "language_info": {
   "codemirror_mode": {
    "name": "ipython",
    "version": 3
   },
   "file_extension": ".py",
   "mimetype": "text/x-python",
   "name": "python",
   "nbconvert_exporter": "python",
   "pygments_lexer": "ipython3",
   "version": "3.8.20"
  }
 },
 "nbformat": 4,
 "nbformat_minor": 4
}
